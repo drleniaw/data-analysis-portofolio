{
 "cells": [
  {
   "cell_type": "markdown",
   "id": "cc1d5262",
   "metadata": {},
   "source": [
    "# Analisis Sentimen Tweet dengan Selenium dan Textblob"
   ]
  },
  {
   "cell_type": "markdown",
   "id": "45c0ed9d",
   "metadata": {},
   "source": [
    "## **Deskripsi proyek**\n",
    "Proyek ini bertujuan untuk melakukan **scraping data Twitter** menggunakan **Selenium** dan kemudian melakukan **analisis sentimen** terhadap tweet yang diambil. Data yang dikumpullkan mencakup **tweet, username, dan tanggal tweet di posting**.\n",
    "\n",
    "Setelah di scraping data akan dianalisis dengan **Textblob** untuk menentukan sentimen tweet (**positif, netral, atau negatif**). Proyek ini dapat digunakan untuk melihat tren opini publik terhadap suatu topik tertentu.\n",
    "\n",
    "## **Tekhnologi yang Digunakan**\n",
    "- **Selenium** : Untuk scraping data Twitter\n",
    "- **Google Translate API** : Untuk mentranslate data kedalam bahasa Inggris\n",
    "- **Textblob** : Untuk analisis sentimen\n",
    "- **Matplotlib & Seaborn : Untuk visualisasi data hasil analisis\n",
    "- **Pandas** : Pengelolaan data\n",
    "\n",
    "## **Hasil yang Diharapkan**\n",
    "1. Dataset berisi tweet yang berhasil diambil dari Twitter.\n",
    "2. Analisis sentimen tweet (positif, netral, negatif)\n",
    "3. Visualisasi distribusi sentimen berdasarkan hasil analisis."
   ]
  },
  {
   "cell_type": "code",
   "execution_count": null,
   "id": "3918f81e",
   "metadata": {},
   "outputs": [],
   "source": []
  },
  {
   "cell_type": "markdown",
   "id": "8913df6e",
   "metadata": {},
   "source": [
    "# Scraping Data Twitter"
   ]
  },
  {
   "cell_type": "markdown",
   "id": "eb8f1f3c",
   "metadata": {},
   "source": [
    "Disini menggunakan library selenium untuk menarik data twitter. Data yang diambil akan berupa data tweet, username, dan tanggal tweet di post."
   ]
  },
  {
   "cell_type": "markdown",
   "id": "155c55e4",
   "metadata": {},
   "source": [
    "Install dan import library yang dibutuhkan"
   ]
  },
  {
   "cell_type": "code",
   "execution_count": 7,
   "id": "d368421a",
   "metadata": {},
   "outputs": [
    {
     "name": "stdout",
     "output_type": "stream",
     "text": [
      "Requirement already satisfied: selenium in c:\\users\\hp14\\downloads\\wpy64-31021\\python-3.10.2.amd64\\lib\\site-packages (4.4.0)\n",
      "Requirement already satisfied: urllib3[secure,socks]~=1.26 in c:\\users\\hp14\\downloads\\wpy64-31021\\python-3.10.2.amd64\\lib\\site-packages (from selenium) (1.26.8)\n",
      "Requirement already satisfied: trio~=0.17 in c:\\users\\hp14\\downloads\\wpy64-31021\\python-3.10.2.amd64\\lib\\site-packages (from selenium) (0.19.0)\n",
      "Requirement already satisfied: trio-websocket~=0.9 in c:\\users\\hp14\\downloads\\wpy64-31021\\python-3.10.2.amd64\\lib\\site-packages (from selenium) (0.9.2)\n",
      "Requirement already satisfied: attrs>=19.2.0 in c:\\users\\hp14\\downloads\\wpy64-31021\\python-3.10.2.amd64\\lib\\site-packages (from trio~=0.17->selenium) (21.4.0)\n",
      "Requirement already satisfied: sortedcontainers in c:\\users\\hp14\\downloads\\wpy64-31021\\python-3.10.2.amd64\\lib\\site-packages (from trio~=0.17->selenium) (2.4.0)\n",
      "Requirement already satisfied: async-generator>=1.9 in c:\\users\\hp14\\downloads\\wpy64-31021\\python-3.10.2.amd64\\lib\\site-packages (from trio~=0.17->selenium) (1.10)\n",
      "Requirement already satisfied: idna in c:\\users\\hp14\\downloads\\wpy64-31021\\python-3.10.2.amd64\\lib\\site-packages (from trio~=0.17->selenium) (2.10)\n",
      "Requirement already satisfied: outcome in c:\\users\\hp14\\downloads\\wpy64-31021\\python-3.10.2.amd64\\lib\\site-packages (from trio~=0.17->selenium) (1.1.0)\n",
      "Requirement already satisfied: sniffio in c:\\users\\hp14\\downloads\\wpy64-31021\\python-3.10.2.amd64\\lib\\site-packages (from trio~=0.17->selenium) (1.2.0)\n",
      "Requirement already satisfied: cffi>=1.14 in c:\\users\\hp14\\downloads\\wpy64-31021\\python-3.10.2.amd64\\lib\\site-packages (from trio~=0.17->selenium) (1.15.0)\n",
      "Requirement already satisfied: wsproto>=0.14 in c:\\users\\hp14\\downloads\\wpy64-31021\\python-3.10.2.amd64\\lib\\site-packages (from trio-websocket~=0.9->selenium) (1.0.0)"
     ]
    },
    {
     "name": "stderr",
     "output_type": "stream",
     "text": [
      "\n",
      "[notice] A new release of pip is available: 23.1.2 -> 25.0\n",
      "[notice] To update, run: python.exe -m pip install --upgrade pip\n"
     ]
    },
    {
     "name": "stdout",
     "output_type": "stream",
     "text": [
      "\n",
      "Requirement already satisfied: pyOpenSSL>=0.14 in c:\\users\\hp14\\downloads\\wpy64-31021\\python-3.10.2.amd64\\lib\\site-packages (from urllib3[secure,socks]~=1.26->selenium) (22.0.0)\n",
      "Requirement already satisfied: cryptography>=1.3.4 in c:\\users\\hp14\\downloads\\wpy64-31021\\python-3.10.2.amd64\\lib\\site-packages (from urllib3[secure,socks]~=1.26->selenium) (35.0.0)\n",
      "Requirement already satisfied: certifi in c:\\users\\hp14\\downloads\\wpy64-31021\\python-3.10.2.amd64\\lib\\site-packages (from urllib3[secure,socks]~=1.26->selenium) (2021.10.8)\n",
      "Requirement already satisfied: PySocks!=1.5.7,<2.0,>=1.5.6 in c:\\users\\hp14\\downloads\\wpy64-31021\\python-3.10.2.amd64\\lib\\site-packages (from urllib3[secure,socks]~=1.26->selenium) (1.7.1)\n",
      "Requirement already satisfied: pycparser in c:\\users\\hp14\\downloads\\wpy64-31021\\python-3.10.2.amd64\\lib\\site-packages (from cffi>=1.14->trio~=0.17->selenium) (2.21)\n",
      "Requirement already satisfied: h11<1,>=0.9.0 in c:\\users\\hp14\\downloads\\wpy64-31021\\python-3.10.2.amd64\\lib\\site-packages (from wsproto>=0.14->trio-websocket~=0.9->selenium) (0.9.0)\n",
      "Requirement already satisfied: pandas in c:\\users\\hp14\\downloads\\wpy64-31021\\python-3.10.2.amd64\\lib\\site-packages (1.4.3)\n",
      "Requirement already satisfied: python-dateutil>=2.8.1 in c:\\users\\hp14\\downloads\\wpy64-31021\\python-3.10.2.amd64\\lib\\site-packages (from pandas) (2.8.2)\n",
      "Requirement already satisfied: pytz>=2020.1 in c:\\users\\hp14\\downloads\\wpy64-31021\\python-3.10.2.amd64\\lib\\site-packages (from pandas) (2021.3)\n",
      "Requirement already satisfied: numpy>=1.21.0 in c:\\users\\hp14\\downloads\\wpy64-31021\\python-3.10.2.amd64\\lib\\site-packages (from pandas) (1.24.2)\n",
      "Requirement already satisfied: six>=1.5 in c:\\users\\hp14\\downloads\\wpy64-31021\\python-3.10.2.amd64\\lib\\site-packages (from python-dateutil>=2.8.1->pandas) (1.16.0)\n"
     ]
    },
    {
     "name": "stderr",
     "output_type": "stream",
     "text": [
      "\n",
      "[notice] A new release of pip is available: 23.1.2 -> 25.0\n",
      "[notice] To update, run: python.exe -m pip install --upgrade pip\n"
     ]
    }
   ],
   "source": [
    "!pip install selenium\n",
    "!pip install pandas"
   ]
  },
  {
   "cell_type": "markdown",
   "id": "89f994bd",
   "metadata": {},
   "source": [
    "Disini memakai web driver firefox/mozila untuk akses menarik data twitter nya, maka dari itu diperlukan untuk mendownload driver firefox (http://github.com/mozilla/geckodriver/releases) sesuaikan dengan versi firefox yang dipakai."
   ]
  },
  {
   "cell_type": "code",
   "execution_count": 8,
   "id": "f69366e4",
   "metadata": {},
   "outputs": [],
   "source": [
    "from selenium import webdriver\n",
    "from selenium.webdriver.firefox.service import Service\n",
    "from selenium.webdriver.firefox.options import Options\n",
    "from selenium.webdriver.common.by import By\n",
    "from selenium.webdriver.support.ui import WebDriverWait\n",
    "from selenium.webdriver.support import expected_conditions as EC\n",
    "import time\n",
    "import pandas as pd"
   ]
  },
  {
   "cell_type": "markdown",
   "id": "aa7e17b0",
   "metadata": {},
   "source": [
    "Setelah code di run, akan muncul website baru yang langsung mengarah ke link yang dicari. Kemudian akan di arahkan untuk login akun twitter, diharapkan sudah mempunyai akun twitter aktif."
   ]
  },
  {
   "cell_type": "code",
   "execution_count": 10,
   "id": "fc6156da",
   "metadata": {},
   "outputs": [
    {
     "name": "stdout",
     "output_type": "stream",
     "text": [
      "Searching for tweets...\n",
      "Number of tweets found: 4\n",
      "Searching for tweets...\n",
      "Number of tweets found: 7\n",
      "Searching for tweets...\n",
      "Number of tweets found: 19\n",
      "Searching for tweets...\n",
      "Number of tweets found: 13\n",
      "Searching for tweets...\n",
      "Number of tweets found: 14\n",
      "Searching for tweets...\n",
      "Number of tweets found: 14\n",
      "Searching for tweets...\n",
      "Number of tweets found: 16\n",
      "Searching for tweets...\n",
      "Number of tweets found: 18\n",
      "                 User                                               Text  \\\n",
      "0       @sarif_krudin  Pemerintah gaspol dorong inovasi kendaraan lis...   \n",
      "1     @gangsa_pradana  Pemerintah dengan pemeriksaan kesehatan gratis...   \n",
      "2          @mureza522  Opini cuma omdo. 78,5 persen penduduk Timor Ti...   \n",
      "3     @puan_maharani8  Program ini adalah bagian dari upaya besar pem...   \n",
      "4          @shannayro  Pemerintah indonesia ni knp demen bgt pake ai ...   \n",
      "..                ...                                                ...   \n",
      "96    @khalisa_fairza  Indonesia melaju pesat di kendaraan listrik be...   \n",
      "97          @Metro_TV  Pemerintah Indonesia tengah bernegosiasi denga...   \n",
      "98     @imran_daniall  Pemerintah kita udah siapin segalanya biar Ind...   \n",
      "99   @darsirah_irawan  Langkah pemerintah ini akan mengurangi ketimpa...   \n",
      "100       @hypevox_id  Buat kamu yang nggak mau melewatkan kesempatan...   \n",
      "\n",
      "                         Date  \n",
      "0    2025-02-07T12:46:05.000Z  \n",
      "1    2025-02-07T12:45:48.000Z  \n",
      "2    2025-02-07T12:42:57.000Z  \n",
      "3    2025-02-07T12:41:59.000Z  \n",
      "4    2025-02-07T12:02:25.000Z  \n",
      "..                        ...  \n",
      "96   2025-02-07T08:31:21.000Z  \n",
      "97   2025-02-07T08:30:00.000Z  \n",
      "98   2025-02-07T08:27:03.000Z  \n",
      "99   2025-02-07T08:26:40.000Z  \n",
      "100  2025-02-07T08:25:23.000Z  \n",
      "\n",
      "[101 rows x 3 columns]\n"
     ]
    }
   ],
   "source": [
    "# Path ke GeckoDriver, sesuaikan dengan path di komputermu\n",
    "gecko_path = \"D:\\\\geckodriver.exe\"  # Sesuaikan path ke GeckoDriver\n",
    "service = Service(executable_path=gecko_path)\n",
    "\n",
    "# Path ke Firefox executable\n",
    "firefox_path = \"C:\\\\Program Files\\\\Mozilla Firefox\\\\firefox.exe\"  # Lokasi Firefox \n",
    "\n",
    "# Konfigurasi Firefox\n",
    "options = Options()\n",
    "options.binary_location = firefox_path  # Menetapkan lokasi binary Firefox\n",
    "options.headless = False  # Set ke True jika Anda tidak ingin membuka jendela browser\n",
    "\n",
    "def create_driver():\n",
    "    return webdriver.Firefox(service=service, options=options)\n",
    "\n",
    "def get_tweet(element):\n",
    "    try:\n",
    "        user = element.find_element(By.XPATH, \".//*[contains(text(), '@')]\").text\n",
    "        text = element.find_element(By.XPATH, \".//div[@lang]\").text\n",
    "        date = element.find_element(By.XPATH, \".//time\").get_attribute(\"datetime\")\n",
    "\n",
    "        tweet_data = [user, text, date]\n",
    "        return tweet_data\n",
    "    except Exception as e:\n",
    "        print(f\"Error: {e}\")\n",
    "        return None\n",
    "\n",
    "def click_retry_button(driver):\n",
    "    try:\n",
    "        retry_button = driver.find_element(By.XPATH, \"//div[text()='Retry']/parent::div\")\n",
    "        retry_button.click()\n",
    "        print(\"Clicked the retry button\")\n",
    "        WebDriverWait(driver, 20).until(EC.invisibility_of_element_located((By.XPATH, \"//div[text()='Retry']\")))\n",
    "    except:\n",
    "        pass\n",
    "\n",
    "def scrape_tweets(driver):\n",
    "    user_data = []\n",
    "    text_data = []\n",
    "    date_data = []\n",
    "    tweet_ids = set()\n",
    "\n",
    "    scrolling = True\n",
    "    while scrolling and len(user_data) < 100: # Banyak data yang diambil sebagai contoh kita akan menarik 100 data\n",
    "        try:\n",
    "            print(\"Searching for tweets...\")\n",
    "            tweets = WebDriverWait(driver, 20).until(EC.presence_of_all_elements_located((By.XPATH, \"//article\")))\n",
    "            print(f\"Number of tweets found: {len(tweets)}\")\n",
    "            for tweet in tweets:\n",
    "                tweet_list = get_tweet(tweet)\n",
    "                if tweet_list:\n",
    "                    tweet_id = ''.join(tweet_list[:2])\n",
    "                    if tweet_id not in tweet_ids:\n",
    "                        tweet_ids.add(tweet_id)\n",
    "                        user_data.append(tweet_list[0])\n",
    "                        text_data.append(\" \".join(tweet_list[1].split()))\n",
    "                        date_data.append(tweet_list[2])\n",
    "\n",
    "            last_height = driver.execute_script(\"return document.body.scrollHeight\")\n",
    "            driver.execute_script(\"window.scrollTo(0, document.body.scrollHeight);\")\n",
    "            WebDriverWait(driver, 30).until(lambda driver: driver.execute_script(\"return document.body.scrollHeight\") > last_height)\n",
    "            new_height = driver.execute_script(\"return document.body.scrollHeight\")\n",
    "\n",
    "            click_retry_button(driver)\n",
    "\n",
    "            if new_height == last_height:\n",
    "                scrolling = False\n",
    "            else:\n",
    "                last_height = new_height\n",
    "                time.sleep(5)  # Tambahkan penundaan yang lebih lama\n",
    "\n",
    "        except Exception as e:\n",
    "            print(f\"Error during scrolling or tweet retrieval: {e}\")\n",
    "            break\n",
    "\n",
    "    return user_data, text_data, date_data\n",
    "\n",
    "driver = create_driver()\n",
    "web = 'https://x.com/search?q=pemerintah%20indonesia&src=typed_query&f=live' # Isi link twitter yang akan di tarik. contoh disini akan menarik data mengenai `pemerintah indonesia`.\n",
    "driver.get(web)\n",
    "time.sleep(15)\n",
    "driver.save_screenshot('screenshot_before_search.png')\n",
    "\n",
    "user_data, text_data, date_data = scrape_tweets(driver)\n",
    "\n",
    "driver.save_screenshot('screenshot_after_search.png')\n",
    "driver.quit()\n",
    "\n",
    "df = pd.DataFrame({\n",
    "    'User': user_data,\n",
    "    'Text': text_data, \n",
    "    'Date': date_data,\n",
    "})\n",
    "\n",
    "print(df)"
   ]
  },
  {
   "cell_type": "markdown",
   "id": "54a6a63a",
   "metadata": {},
   "source": [
    "ubah kebentuk dataframe."
   ]
  },
  {
   "cell_type": "code",
   "execution_count": 11,
   "id": "42508383",
   "metadata": {},
   "outputs": [
    {
     "data": {
      "text/html": [
       "<div>\n",
       "<style scoped>\n",
       "    .dataframe tbody tr th:only-of-type {\n",
       "        vertical-align: middle;\n",
       "    }\n",
       "\n",
       "    .dataframe tbody tr th {\n",
       "        vertical-align: top;\n",
       "    }\n",
       "\n",
       "    .dataframe thead th {\n",
       "        text-align: right;\n",
       "    }\n",
       "</style>\n",
       "<table border=\"1\" class=\"dataframe\">\n",
       "  <thead>\n",
       "    <tr style=\"text-align: right;\">\n",
       "      <th></th>\n",
       "      <th>User</th>\n",
       "      <th>Text</th>\n",
       "      <th>Date</th>\n",
       "    </tr>\n",
       "  </thead>\n",
       "  <tbody>\n",
       "    <tr>\n",
       "      <th>0</th>\n",
       "      <td>@sarif_krudin</td>\n",
       "      <td>Pemerintah gaspol dorong inovasi kendaraan lis...</td>\n",
       "      <td>2025-02-07T12:46:05.000Z</td>\n",
       "    </tr>\n",
       "    <tr>\n",
       "      <th>1</th>\n",
       "      <td>@gangsa_pradana</td>\n",
       "      <td>Pemerintah dengan pemeriksaan kesehatan gratis...</td>\n",
       "      <td>2025-02-07T12:45:48.000Z</td>\n",
       "    </tr>\n",
       "    <tr>\n",
       "      <th>2</th>\n",
       "      <td>@mureza522</td>\n",
       "      <td>Opini cuma omdo. 78,5 persen penduduk Timor Ti...</td>\n",
       "      <td>2025-02-07T12:42:57.000Z</td>\n",
       "    </tr>\n",
       "    <tr>\n",
       "      <th>3</th>\n",
       "      <td>@puan_maharani8</td>\n",
       "      <td>Program ini adalah bagian dari upaya besar pem...</td>\n",
       "      <td>2025-02-07T12:41:59.000Z</td>\n",
       "    </tr>\n",
       "    <tr>\n",
       "      <th>4</th>\n",
       "      <td>@shannayro</td>\n",
       "      <td>Pemerintah indonesia ni knp demen bgt pake ai ...</td>\n",
       "      <td>2025-02-07T12:02:25.000Z</td>\n",
       "    </tr>\n",
       "    <tr>\n",
       "      <th>5</th>\n",
       "      <td>@tvOneNews</td>\n",
       "      <td>Antrean pembelian gas melon 3 kg di berbagai d...</td>\n",
       "      <td>2025-02-07T12:00:03.000Z</td>\n",
       "    </tr>\n",
       "    <tr>\n",
       "      <th>6</th>\n",
       "      <td>@ConversationIDN</td>\n",
       "      <td>Wacana kelola tambang oleh pemerintah untuk un...</td>\n",
       "      <td>2025-02-07T12:00:03.000Z</td>\n",
       "    </tr>\n",
       "    <tr>\n",
       "      <th>7</th>\n",
       "      <td>@bukanartiscoy</td>\n",
       "      <td>Lah kan dia udah sering keritik pemerintah? Be...</td>\n",
       "      <td>2025-02-07T11:59:39.000Z</td>\n",
       "    </tr>\n",
       "    <tr>\n",
       "      <th>8</th>\n",
       "      <td>@bunga_ida437</td>\n",
       "      <td>Indonesia menuju era baru dengan dukungan peme...</td>\n",
       "      <td>2025-02-07T11:59:27.000Z</td>\n",
       "    </tr>\n",
       "    <tr>\n",
       "      <th>9</th>\n",
       "      <td>@soloposdotcom</td>\n",
       "      <td>Mulai 2025 Siswa Lulus Dapat Ijazah Elektronik...</td>\n",
       "      <td>2025-02-07T11:54:52.000Z</td>\n",
       "    </tr>\n",
       "  </tbody>\n",
       "</table>\n",
       "</div>"
      ],
      "text/plain": [
       "               User                                               Text  \\\n",
       "0     @sarif_krudin  Pemerintah gaspol dorong inovasi kendaraan lis...   \n",
       "1   @gangsa_pradana  Pemerintah dengan pemeriksaan kesehatan gratis...   \n",
       "2        @mureza522  Opini cuma omdo. 78,5 persen penduduk Timor Ti...   \n",
       "3   @puan_maharani8  Program ini adalah bagian dari upaya besar pem...   \n",
       "4        @shannayro  Pemerintah indonesia ni knp demen bgt pake ai ...   \n",
       "5        @tvOneNews  Antrean pembelian gas melon 3 kg di berbagai d...   \n",
       "6  @ConversationIDN  Wacana kelola tambang oleh pemerintah untuk un...   \n",
       "7    @bukanartiscoy  Lah kan dia udah sering keritik pemerintah? Be...   \n",
       "8     @bunga_ida437  Indonesia menuju era baru dengan dukungan peme...   \n",
       "9    @soloposdotcom  Mulai 2025 Siswa Lulus Dapat Ijazah Elektronik...   \n",
       "\n",
       "                       Date  \n",
       "0  2025-02-07T12:46:05.000Z  \n",
       "1  2025-02-07T12:45:48.000Z  \n",
       "2  2025-02-07T12:42:57.000Z  \n",
       "3  2025-02-07T12:41:59.000Z  \n",
       "4  2025-02-07T12:02:25.000Z  \n",
       "5  2025-02-07T12:00:03.000Z  \n",
       "6  2025-02-07T12:00:03.000Z  \n",
       "7  2025-02-07T11:59:39.000Z  \n",
       "8  2025-02-07T11:59:27.000Z  \n",
       "9  2025-02-07T11:54:52.000Z  "
      ]
     },
     "execution_count": 11,
     "metadata": {},
     "output_type": "execute_result"
    }
   ],
   "source": [
    "df.head(10)"
   ]
  },
  {
   "cell_type": "markdown",
   "id": "15fdf5c1",
   "metadata": {},
   "source": [
    "simpan hasil kedalam csv."
   ]
  },
  {
   "cell_type": "code",
   "execution_count": 12,
   "id": "8931d6c3",
   "metadata": {},
   "outputs": [],
   "source": [
    "df.to_csv('hasil-crawling-pemerintah-indo.csv', index=False, sep=\";\")"
   ]
  },
  {
   "cell_type": "code",
   "execution_count": null,
   "id": "63edca24",
   "metadata": {},
   "outputs": [],
   "source": []
  },
  {
   "cell_type": "markdown",
   "id": "0fabb9c8",
   "metadata": {},
   "source": [
    "# Cleaning Data"
   ]
  },
  {
   "cell_type": "markdown",
   "id": "dad4541d",
   "metadata": {},
   "source": [
    "Sebelum melakukan analisis sentimen, data tweet perlu dibersihkan terlebih dahulu dari link, emoji dsb yang ada, agar tidak memperngaruhi nilai sentimen nantinya."
   ]
  },
  {
   "cell_type": "code",
   "execution_count": 13,
   "id": "ee8394ce",
   "metadata": {},
   "outputs": [],
   "source": [
    "# Import library yang dibutuhkan\n",
    "import numpy as np\n",
    "import string\n",
    "import re\n",
    "import pandas as pd"
   ]
  },
  {
   "cell_type": "markdown",
   "id": "5cbb72ba",
   "metadata": {},
   "source": [
    "Menghapus username yang terdapat pada data tweet."
   ]
  },
  {
   "cell_type": "code",
   "execution_count": 14,
   "id": "73a7526c",
   "metadata": {},
   "outputs": [],
   "source": [
    "def remove_pattern(Text, pattern):\n",
    "    r = re.findall(pattern, str(Text))\n",
    "    for i in r:\n",
    "        Text = re.sub(i, '', str(Text))\n",
    "    return Text\n",
    "df['remove_user'] = np.vectorize(remove_pattern)(df['Text'], \"@[\\w]*\")"
   ]
  },
  {
   "cell_type": "code",
   "execution_count": 15,
   "id": "2e4cff30",
   "metadata": {},
   "outputs": [
    {
     "data": {
      "text/html": [
       "<div>\n",
       "<style scoped>\n",
       "    .dataframe tbody tr th:only-of-type {\n",
       "        vertical-align: middle;\n",
       "    }\n",
       "\n",
       "    .dataframe tbody tr th {\n",
       "        vertical-align: top;\n",
       "    }\n",
       "\n",
       "    .dataframe thead th {\n",
       "        text-align: right;\n",
       "    }\n",
       "</style>\n",
       "<table border=\"1\" class=\"dataframe\">\n",
       "  <thead>\n",
       "    <tr style=\"text-align: right;\">\n",
       "      <th></th>\n",
       "      <th>User</th>\n",
       "      <th>Text</th>\n",
       "      <th>Date</th>\n",
       "      <th>remove_user</th>\n",
       "    </tr>\n",
       "  </thead>\n",
       "  <tbody>\n",
       "    <tr>\n",
       "      <th>0</th>\n",
       "      <td>@sarif_krudin</td>\n",
       "      <td>Pemerintah gaspol dorong inovasi kendaraan lis...</td>\n",
       "      <td>2025-02-07T12:46:05.000Z</td>\n",
       "      <td>Pemerintah gaspol dorong inovasi kendaraan lis...</td>\n",
       "    </tr>\n",
       "    <tr>\n",
       "      <th>1</th>\n",
       "      <td>@gangsa_pradana</td>\n",
       "      <td>Pemerintah dengan pemeriksaan kesehatan gratis...</td>\n",
       "      <td>2025-02-07T12:45:48.000Z</td>\n",
       "      <td>Pemerintah dengan pemeriksaan kesehatan gratis...</td>\n",
       "    </tr>\n",
       "    <tr>\n",
       "      <th>2</th>\n",
       "      <td>@mureza522</td>\n",
       "      <td>Opini cuma omdo. 78,5 persen penduduk Timor Ti...</td>\n",
       "      <td>2025-02-07T12:42:57.000Z</td>\n",
       "      <td>Opini cuma omdo. 78,5 persen penduduk Timor Ti...</td>\n",
       "    </tr>\n",
       "    <tr>\n",
       "      <th>3</th>\n",
       "      <td>@puan_maharani8</td>\n",
       "      <td>Program ini adalah bagian dari upaya besar pem...</td>\n",
       "      <td>2025-02-07T12:41:59.000Z</td>\n",
       "      <td>Program ini adalah bagian dari upaya besar pem...</td>\n",
       "    </tr>\n",
       "    <tr>\n",
       "      <th>4</th>\n",
       "      <td>@shannayro</td>\n",
       "      <td>Pemerintah indonesia ni knp demen bgt pake ai ...</td>\n",
       "      <td>2025-02-07T12:02:25.000Z</td>\n",
       "      <td>Pemerintah indonesia ni knp demen bgt pake ai ...</td>\n",
       "    </tr>\n",
       "    <tr>\n",
       "      <th>5</th>\n",
       "      <td>@tvOneNews</td>\n",
       "      <td>Antrean pembelian gas melon 3 kg di berbagai d...</td>\n",
       "      <td>2025-02-07T12:00:03.000Z</td>\n",
       "      <td>Antrean pembelian gas melon 3 kg di berbagai d...</td>\n",
       "    </tr>\n",
       "    <tr>\n",
       "      <th>6</th>\n",
       "      <td>@ConversationIDN</td>\n",
       "      <td>Wacana kelola tambang oleh pemerintah untuk un...</td>\n",
       "      <td>2025-02-07T12:00:03.000Z</td>\n",
       "      <td>Wacana kelola tambang oleh pemerintah untuk un...</td>\n",
       "    </tr>\n",
       "    <tr>\n",
       "      <th>7</th>\n",
       "      <td>@bukanartiscoy</td>\n",
       "      <td>Lah kan dia udah sering keritik pemerintah? Be...</td>\n",
       "      <td>2025-02-07T11:59:39.000Z</td>\n",
       "      <td>Lah kan dia udah sering keritik pemerintah? Be...</td>\n",
       "    </tr>\n",
       "    <tr>\n",
       "      <th>8</th>\n",
       "      <td>@bunga_ida437</td>\n",
       "      <td>Indonesia menuju era baru dengan dukungan peme...</td>\n",
       "      <td>2025-02-07T11:59:27.000Z</td>\n",
       "      <td>Indonesia menuju era baru dengan dukungan peme...</td>\n",
       "    </tr>\n",
       "    <tr>\n",
       "      <th>9</th>\n",
       "      <td>@soloposdotcom</td>\n",
       "      <td>Mulai 2025 Siswa Lulus Dapat Ijazah Elektronik...</td>\n",
       "      <td>2025-02-07T11:54:52.000Z</td>\n",
       "      <td>Mulai 2025 Siswa Lulus Dapat Ijazah Elektronik...</td>\n",
       "    </tr>\n",
       "  </tbody>\n",
       "</table>\n",
       "</div>"
      ],
      "text/plain": [
       "               User                                               Text  \\\n",
       "0     @sarif_krudin  Pemerintah gaspol dorong inovasi kendaraan lis...   \n",
       "1   @gangsa_pradana  Pemerintah dengan pemeriksaan kesehatan gratis...   \n",
       "2        @mureza522  Opini cuma omdo. 78,5 persen penduduk Timor Ti...   \n",
       "3   @puan_maharani8  Program ini adalah bagian dari upaya besar pem...   \n",
       "4        @shannayro  Pemerintah indonesia ni knp demen bgt pake ai ...   \n",
       "5        @tvOneNews  Antrean pembelian gas melon 3 kg di berbagai d...   \n",
       "6  @ConversationIDN  Wacana kelola tambang oleh pemerintah untuk un...   \n",
       "7    @bukanartiscoy  Lah kan dia udah sering keritik pemerintah? Be...   \n",
       "8     @bunga_ida437  Indonesia menuju era baru dengan dukungan peme...   \n",
       "9    @soloposdotcom  Mulai 2025 Siswa Lulus Dapat Ijazah Elektronik...   \n",
       "\n",
       "                       Date                                        remove_user  \n",
       "0  2025-02-07T12:46:05.000Z  Pemerintah gaspol dorong inovasi kendaraan lis...  \n",
       "1  2025-02-07T12:45:48.000Z  Pemerintah dengan pemeriksaan kesehatan gratis...  \n",
       "2  2025-02-07T12:42:57.000Z  Opini cuma omdo. 78,5 persen penduduk Timor Ti...  \n",
       "3  2025-02-07T12:41:59.000Z  Program ini adalah bagian dari upaya besar pem...  \n",
       "4  2025-02-07T12:02:25.000Z  Pemerintah indonesia ni knp demen bgt pake ai ...  \n",
       "5  2025-02-07T12:00:03.000Z  Antrean pembelian gas melon 3 kg di berbagai d...  \n",
       "6  2025-02-07T12:00:03.000Z  Wacana kelola tambang oleh pemerintah untuk un...  \n",
       "7  2025-02-07T11:59:39.000Z  Lah kan dia udah sering keritik pemerintah? Be...  \n",
       "8  2025-02-07T11:59:27.000Z  Indonesia menuju era baru dengan dukungan peme...  \n",
       "9  2025-02-07T11:54:52.000Z  Mulai 2025 Siswa Lulus Dapat Ijazah Elektronik...  "
      ]
     },
     "execution_count": 15,
     "metadata": {},
     "output_type": "execute_result"
    }
   ],
   "source": [
    "df.head(10)"
   ]
  },
  {
   "cell_type": "markdown",
   "id": "800271f1",
   "metadata": {},
   "source": [
    "Membersihkan karakter/emoji, link dsb."
   ]
  },
  {
   "cell_type": "code",
   "execution_count": 16,
   "id": "ae46a296",
   "metadata": {},
   "outputs": [],
   "source": [
    "def cleaning(Text):      #\n",
    "    Text = re.sub('((www\\.[^\\s]+)|(https?://[^\\s]+))', ' ', Text)     #untuk menghapus semua URL atau tautan web dari teks.\n",
    "    Text = re.sub(r\"\\s+\", \" \", str(Text))       #digunakan untuk menggantikan satu atau lebih spasi berturut-turut dalam teks\n",
    "    Text = re.sub(r'#', '', Text)         #digunakan untuk menghapus semua tanda pagar (#) dalam teks\n",
    "    Text = re.sub(r'\\s\\s+', ' ', Text)      #Digunakan untuk menggantikan dua atau lebih spasi berturut-turut dalam teks dengan satu spasi tunggal.\n",
    "    Text = re.sub(r'^b[\\s]+', '', Text)       #digunakan untuk menghapus spasi di awal teks\n",
    "    Text = re.sub(r'^link[\\s]+', '', Text)      #digunakan untuk menghapus string \"link\" yang diikuti oleh spasi di awal teks\n",
    "    return Text\n",
    "\n",
    "def remove_emoji(Text):\n",
    "    emoji = re.compile(\"[\"\n",
    "                        u\"\\U0001F600-\\U0001F64F\"  # emoticons\n",
    "                        u\"\\U0001F300-\\U0001F5FF\"  # simbol & piktogram\n",
    "                        u\"\\U0001F680-\\U0001F6FF\"  # transportasi & simbol peralatan\n",
    "                        u\"\\U0001F1E0-\\U0001F1FF\"  # bendera negara\n",
    "                        u\"\\U00002702-\\U000027B0\"  # simbol\n",
    "                        u\"\\U000024C2-\\U0001F251\"  # emoji lainnya\n",
    "                        \"]+\", flags=re.UNICODE)\n",
    "    return emoji.sub(r'', Text)\n",
    "\n",
    "df['cleaning'] = df['remove_user'].apply(cleaning)"
   ]
  },
  {
   "cell_type": "code",
   "execution_count": 18,
   "id": "bb8b93dc",
   "metadata": {
    "scrolled": true
   },
   "outputs": [
    {
     "data": {
      "text/html": [
       "<div>\n",
       "<style scoped>\n",
       "    .dataframe tbody tr th:only-of-type {\n",
       "        vertical-align: middle;\n",
       "    }\n",
       "\n",
       "    .dataframe tbody tr th {\n",
       "        vertical-align: top;\n",
       "    }\n",
       "\n",
       "    .dataframe thead th {\n",
       "        text-align: right;\n",
       "    }\n",
       "</style>\n",
       "<table border=\"1\" class=\"dataframe\">\n",
       "  <thead>\n",
       "    <tr style=\"text-align: right;\">\n",
       "      <th></th>\n",
       "      <th>User</th>\n",
       "      <th>Text</th>\n",
       "      <th>Date</th>\n",
       "      <th>remove_user</th>\n",
       "      <th>cleaning</th>\n",
       "    </tr>\n",
       "  </thead>\n",
       "  <tbody>\n",
       "    <tr>\n",
       "      <th>0</th>\n",
       "      <td>@sarif_krudin</td>\n",
       "      <td>Pemerintah gaspol dorong inovasi kendaraan lis...</td>\n",
       "      <td>2025-02-07T12:46:05.000Z</td>\n",
       "      <td>Pemerintah gaspol dorong inovasi kendaraan lis...</td>\n",
       "      <td>Pemerintah gaspol dorong inovasi kendaraan lis...</td>\n",
       "    </tr>\n",
       "    <tr>\n",
       "      <th>1</th>\n",
       "      <td>@gangsa_pradana</td>\n",
       "      <td>Pemerintah dengan pemeriksaan kesehatan gratis...</td>\n",
       "      <td>2025-02-07T12:45:48.000Z</td>\n",
       "      <td>Pemerintah dengan pemeriksaan kesehatan gratis...</td>\n",
       "      <td>Pemerintah dengan pemeriksaan kesehatan gratis...</td>\n",
       "    </tr>\n",
       "    <tr>\n",
       "      <th>2</th>\n",
       "      <td>@mureza522</td>\n",
       "      <td>Opini cuma omdo. 78,5 persen penduduk Timor Ti...</td>\n",
       "      <td>2025-02-07T12:42:57.000Z</td>\n",
       "      <td>Opini cuma omdo. 78,5 persen penduduk Timor Ti...</td>\n",
       "      <td>Opini cuma omdo. 78,5 persen penduduk Timor Ti...</td>\n",
       "    </tr>\n",
       "    <tr>\n",
       "      <th>3</th>\n",
       "      <td>@puan_maharani8</td>\n",
       "      <td>Program ini adalah bagian dari upaya besar pem...</td>\n",
       "      <td>2025-02-07T12:41:59.000Z</td>\n",
       "      <td>Program ini adalah bagian dari upaya besar pem...</td>\n",
       "      <td>Program ini adalah bagian dari upaya besar pem...</td>\n",
       "    </tr>\n",
       "    <tr>\n",
       "      <th>4</th>\n",
       "      <td>@shannayro</td>\n",
       "      <td>Pemerintah indonesia ni knp demen bgt pake ai ...</td>\n",
       "      <td>2025-02-07T12:02:25.000Z</td>\n",
       "      <td>Pemerintah indonesia ni knp demen bgt pake ai ...</td>\n",
       "      <td>Pemerintah indonesia ni knp demen bgt pake ai ...</td>\n",
       "    </tr>\n",
       "    <tr>\n",
       "      <th>5</th>\n",
       "      <td>@tvOneNews</td>\n",
       "      <td>Antrean pembelian gas melon 3 kg di berbagai d...</td>\n",
       "      <td>2025-02-07T12:00:03.000Z</td>\n",
       "      <td>Antrean pembelian gas melon 3 kg di berbagai d...</td>\n",
       "      <td>Antrean pembelian gas melon 3 kg di berbagai d...</td>\n",
       "    </tr>\n",
       "    <tr>\n",
       "      <th>6</th>\n",
       "      <td>@ConversationIDN</td>\n",
       "      <td>Wacana kelola tambang oleh pemerintah untuk un...</td>\n",
       "      <td>2025-02-07T12:00:03.000Z</td>\n",
       "      <td>Wacana kelola tambang oleh pemerintah untuk un...</td>\n",
       "      <td>Wacana kelola tambang oleh pemerintah untuk un...</td>\n",
       "    </tr>\n",
       "    <tr>\n",
       "      <th>7</th>\n",
       "      <td>@bukanartiscoy</td>\n",
       "      <td>Lah kan dia udah sering keritik pemerintah? Be...</td>\n",
       "      <td>2025-02-07T11:59:39.000Z</td>\n",
       "      <td>Lah kan dia udah sering keritik pemerintah? Be...</td>\n",
       "      <td>Lah kan dia udah sering keritik pemerintah? Be...</td>\n",
       "    </tr>\n",
       "    <tr>\n",
       "      <th>8</th>\n",
       "      <td>@bunga_ida437</td>\n",
       "      <td>Indonesia menuju era baru dengan dukungan peme...</td>\n",
       "      <td>2025-02-07T11:59:27.000Z</td>\n",
       "      <td>Indonesia menuju era baru dengan dukungan peme...</td>\n",
       "      <td>Indonesia menuju era baru dengan dukungan peme...</td>\n",
       "    </tr>\n",
       "    <tr>\n",
       "      <th>9</th>\n",
       "      <td>@soloposdotcom</td>\n",
       "      <td>Mulai 2025 Siswa Lulus Dapat Ijazah Elektronik...</td>\n",
       "      <td>2025-02-07T11:54:52.000Z</td>\n",
       "      <td>Mulai 2025 Siswa Lulus Dapat Ijazah Elektronik...</td>\n",
       "      <td>Mulai 2025 Siswa Lulus Dapat Ijazah Elektronik...</td>\n",
       "    </tr>\n",
       "  </tbody>\n",
       "</table>\n",
       "</div>"
      ],
      "text/plain": [
       "               User                                               Text  \\\n",
       "0     @sarif_krudin  Pemerintah gaspol dorong inovasi kendaraan lis...   \n",
       "1   @gangsa_pradana  Pemerintah dengan pemeriksaan kesehatan gratis...   \n",
       "2        @mureza522  Opini cuma omdo. 78,5 persen penduduk Timor Ti...   \n",
       "3   @puan_maharani8  Program ini adalah bagian dari upaya besar pem...   \n",
       "4        @shannayro  Pemerintah indonesia ni knp demen bgt pake ai ...   \n",
       "5        @tvOneNews  Antrean pembelian gas melon 3 kg di berbagai d...   \n",
       "6  @ConversationIDN  Wacana kelola tambang oleh pemerintah untuk un...   \n",
       "7    @bukanartiscoy  Lah kan dia udah sering keritik pemerintah? Be...   \n",
       "8     @bunga_ida437  Indonesia menuju era baru dengan dukungan peme...   \n",
       "9    @soloposdotcom  Mulai 2025 Siswa Lulus Dapat Ijazah Elektronik...   \n",
       "\n",
       "                       Date  \\\n",
       "0  2025-02-07T12:46:05.000Z   \n",
       "1  2025-02-07T12:45:48.000Z   \n",
       "2  2025-02-07T12:42:57.000Z   \n",
       "3  2025-02-07T12:41:59.000Z   \n",
       "4  2025-02-07T12:02:25.000Z   \n",
       "5  2025-02-07T12:00:03.000Z   \n",
       "6  2025-02-07T12:00:03.000Z   \n",
       "7  2025-02-07T11:59:39.000Z   \n",
       "8  2025-02-07T11:59:27.000Z   \n",
       "9  2025-02-07T11:54:52.000Z   \n",
       "\n",
       "                                         remove_user  \\\n",
       "0  Pemerintah gaspol dorong inovasi kendaraan lis...   \n",
       "1  Pemerintah dengan pemeriksaan kesehatan gratis...   \n",
       "2  Opini cuma omdo. 78,5 persen penduduk Timor Ti...   \n",
       "3  Program ini adalah bagian dari upaya besar pem...   \n",
       "4  Pemerintah indonesia ni knp demen bgt pake ai ...   \n",
       "5  Antrean pembelian gas melon 3 kg di berbagai d...   \n",
       "6  Wacana kelola tambang oleh pemerintah untuk un...   \n",
       "7  Lah kan dia udah sering keritik pemerintah? Be...   \n",
       "8  Indonesia menuju era baru dengan dukungan peme...   \n",
       "9  Mulai 2025 Siswa Lulus Dapat Ijazah Elektronik...   \n",
       "\n",
       "                                            cleaning  \n",
       "0  Pemerintah gaspol dorong inovasi kendaraan lis...  \n",
       "1  Pemerintah dengan pemeriksaan kesehatan gratis...  \n",
       "2  Opini cuma omdo. 78,5 persen penduduk Timor Ti...  \n",
       "3  Program ini adalah bagian dari upaya besar pem...  \n",
       "4  Pemerintah indonesia ni knp demen bgt pake ai ...  \n",
       "5  Antrean pembelian gas melon 3 kg di berbagai d...  \n",
       "6  Wacana kelola tambang oleh pemerintah untuk un...  \n",
       "7  Lah kan dia udah sering keritik pemerintah? Be...  \n",
       "8  Indonesia menuju era baru dengan dukungan peme...  \n",
       "9  Mulai 2025 Siswa Lulus Dapat Ijazah Elektronik...  "
      ]
     },
     "execution_count": 18,
     "metadata": {},
     "output_type": "execute_result"
    }
   ],
   "source": [
    "df.head(10)"
   ]
  },
  {
   "cell_type": "code",
   "execution_count": null,
   "id": "2a19b1e7",
   "metadata": {},
   "outputs": [],
   "source": []
  },
  {
   "cell_type": "markdown",
   "id": "ebcb8eef",
   "metadata": {},
   "source": [
    "# Labeling Sentimen"
   ]
  },
  {
   "cell_type": "markdown",
   "id": "3da858d1",
   "metadata": {},
   "source": [
    "Disini untuk labeling sentimen menggunakan textblob, yang mana data tweet nanti akan di ubah ke dalam format bahasa ingris terlebih dahulu agar hasilnya terdektesi. Karena textblob tidak bisa mendektesi bahasa selain bahasa ingris. Dan untuk labeling disini menggunakan 3 kelas sentimen; positif, netral dan negatif."
   ]
  },
  {
   "cell_type": "code",
   "execution_count": 19,
   "id": "f0f9a370",
   "metadata": {},
   "outputs": [
    {
     "name": "stdout",
     "output_type": "stream",
     "text": [
      "Collecting googletrans==3.1.0a0\n",
      "  Downloading googletrans-3.1.0a0.tar.gz (19 kB)\n",
      "  Preparing metadata (setup.py): started\n",
      "  Preparing metadata (setup.py): finished with status 'done'\n",
      "Requirement already satisfied: httpx==0.13.3 in c:\\users\\hp14\\downloads\\wpy64-31021\\python-3.10.2.amd64\\lib\\site-packages (from googletrans==3.1.0a0) (0.13.3)\n",
      "Requirement already satisfied: certifi in c:\\users\\hp14\\downloads\\wpy64-31021\\python-3.10.2.amd64\\lib\\site-packages (from httpx==0.13.3->googletrans==3.1.0a0) (2021.10.8)\n",
      "Requirement already satisfied: hstspreload in c:\\users\\hp14\\downloads\\wpy64-31021\\python-3.10.2.amd64\\lib\\site-packages (from httpx==0.13.3->googletrans==3.1.0a0) (2021.12.1)\n",
      "Requirement already satisfied: sniffio in c:\\users\\hp14\\downloads\\wpy64-31021\\python-3.10.2.amd64\\lib\\site-packages (from httpx==0.13.3->googletrans==3.1.0a0) (1.2.0)\n",
      "Requirement already satisfied: chardet==3.* in c:\\users\\hp14\\downloads\\wpy64-31021\\python-3.10.2.amd64\\lib\\site-packages (from httpx==0.13.3->googletrans==3.1.0a0) (3.0.4)\n",
      "Requirement already satisfied: idna==2.* in c:\\users\\hp14\\downloads\\wpy64-31021\\python-3.10.2.amd64\\lib\\site-packages (from httpx==0.13.3->googletrans==3.1.0a0) (2.10)\n",
      "Requirement already satisfied: rfc3986<2,>=1.3 in c:\\users\\hp14\\downloads\\wpy64-31021\\python-3.10.2.amd64\\lib\\site-packages (from httpx==0.13.3->googletrans==3.1.0a0) (1.5.0)\n",
      "Requirement already satisfied: httpcore==0.9.* in c:\\users\\hp14\\downloads\\wpy64-31021\\python-3.10.2.amd64\\lib\\site-packages (from httpx==0.13.3->googletrans==3.1.0a0) (0.9.1)\n",
      "Requirement already satisfied: h11<0.10,>=0.8 in c:\\users\\hp14\\downloads\\wpy64-31021\\python-3.10.2.amd64\\lib\\site-packages (from httpcore==0.9.*->httpx==0.13.3->googletrans==3.1.0a0) (0.9.0)\n",
      "Requirement already satisfied: h2==3.* in c:\\users\\hp14\\downloads\\wpy64-31021\\python-3.10.2.amd64\\lib\\site-packages (from httpcore==0.9.*->httpx==0.13.3->googletrans==3.1.0a0) (3.2.0)\n",
      "Requirement already satisfied: hyperframe<6,>=5.2.0 in c:\\users\\hp14\\downloads\\wpy64-31021\\python-3.10.2.amd64\\lib\\site-packages (from h2==3.*->httpcore==0.9.*->httpx==0.13.3->googletrans==3.1.0a0) (5.2.0)\n",
      "Requirement already satisfied: hpack<4,>=3.0 in c:\\users\\hp14\\downloads\\wpy64-31021\\python-3.10.2.amd64\\lib\\site-packages (from h2==3.*->httpcore==0.9.*->httpx==0.13.3->googletrans==3.1.0a0) (3.0.0)\n",
      "Building wheels for collected packages: googletrans\n",
      "  Building wheel for googletrans (setup.py): started\n",
      "  Building wheel for googletrans (setup.py): finished with status 'done'\n",
      "  Created wheel for googletrans: filename=googletrans-3.1.0a0-py3-none-any.whl size=16367 sha256=39ac388b11416788c3bdd1bdbea4d9b7190f1f7842f4527a00071b247bcab05a\n",
      "  Stored in directory: c:\\users\\hp14\\appdata\\local\\pip\\cache\\wheels\\50\\5d\\3c\\8477d0af4ca2b8b1308812c09f1930863caeebc762fe265a95\n",
      "Successfully built googletrans\n",
      "Installing collected packages: googletrans\n",
      "  Attempting uninstall: googletrans\n",
      "    Found existing installation: googletrans 3.0.0\n",
      "    Uninstalling googletrans-3.0.0:\n",
      "      Successfully uninstalled googletrans-3.0.0\n",
      "Successfully installed googletrans-3.1.0a0\n"
     ]
    },
    {
     "name": "stderr",
     "output_type": "stream",
     "text": [
      "WARNING: Retrying (Retry(total=4, connect=None, read=None, redirect=None, status=None)) after connection broken by 'ReadTimeoutError(\"HTTPSConnectionPool(host='pypi.org', port=443): Read timed out. (read timeout=15)\")': /simple/googletrans/\n",
      "\n",
      "[notice] A new release of pip is available: 23.1.2 -> 25.0\n",
      "[notice] To update, run: python.exe -m pip install --upgrade pip\n"
     ]
    }
   ],
   "source": [
    "# Library yang dibutuhkan untuk translate\n",
    "!pip install googletrans==3.1.0a0\n",
    "import googletrans\n",
    "from googletrans import Translator\n",
    "translator = Translator()\n",
    "pd.set_option('max_colwidth', 300)\n",
    "\n",
    "# Library Labelin Sentimen\n",
    "from textblob import TextBlob"
   ]
  },
  {
   "cell_type": "markdown",
   "id": "6a25090e",
   "metadata": {},
   "source": [
    "Ubah bahasa indonesia kedalam bahasa Ingris untuk yang dikolom cleaning."
   ]
  },
  {
   "cell_type": "code",
   "execution_count": 20,
   "id": "051dee7c",
   "metadata": {},
   "outputs": [
    {
     "data": {
      "text/html": [
       "<div>\n",
       "<style scoped>\n",
       "    .dataframe tbody tr th:only-of-type {\n",
       "        vertical-align: middle;\n",
       "    }\n",
       "\n",
       "    .dataframe tbody tr th {\n",
       "        vertical-align: top;\n",
       "    }\n",
       "\n",
       "    .dataframe thead th {\n",
       "        text-align: right;\n",
       "    }\n",
       "</style>\n",
       "<table border=\"1\" class=\"dataframe\">\n",
       "  <thead>\n",
       "    <tr style=\"text-align: right;\">\n",
       "      <th></th>\n",
       "      <th>cleaning</th>\n",
       "      <th>english_cleaning</th>\n",
       "    </tr>\n",
       "  </thead>\n",
       "  <tbody>\n",
       "    <tr>\n",
       "      <th>0</th>\n",
       "      <td>Pemerintah gaspol dorong inovasi kendaraan listrik, masa depan Indonesia makin cerah!</td>\n",
       "      <td>The Gaspol government encourages electric vehicle innovation, Indonesia's future is brighter!</td>\n",
       "    </tr>\n",
       "    <tr>\n",
       "      <th>1</th>\n",
       "      <td>Pemerintah dengan pemeriksaan kesehatan gratis menunjukkan kepedulian terhadap kualitas hidup rakyat Indonesia PemerintahSehatkanBangsa</td>\n",
       "      <td>The government with a free health check shows a concern for the quality of life of the Indonesian people, the nation</td>\n",
       "    </tr>\n",
       "    <tr>\n",
       "      <th>2</th>\n",
       "      <td>Opini cuma omdo. 78,5 persen penduduk Timor Timur ingin merdeka atau memisahkan diri, dan menolak tawaran otonomi khusus dari Indonesia ngomong industri yg suport manufaktur pesawat? Pendaannya saja di hentikan oleh pemerintah karena krismon Terus semua salahin Bj Habibie?</td>\n",
       "      <td>Omdo's opinion. 78.5 percent of the population of East Timor wants to be independent or separate, and reject the offer of special autonomy from Indonesia talking about the industry that supports aircraft manufacturing? The funding was stopped by the government because Krismon continued all BJ Ha...</td>\n",
       "    </tr>\n",
       "    <tr>\n",
       "      <th>3</th>\n",
       "      <td>Program ini adalah bagian dari upaya besar pemerintah dalam memperbaiki sistem kesehatan Indonesia PemerintahSehatkanBangsa</td>\n",
       "      <td>This program is part of the government's great efforts in improving the Indonesian health system.</td>\n",
       "    </tr>\n",
       "    <tr>\n",
       "      <th>4</th>\n",
       "      <td>Pemerintah indonesia ni knp demen bgt pake ai sih, generasi emas preketek kalau masalah edit² gambar larinya ke ai</td>\n",
       "      <td>The Indonesian government is why do you like to use AI, the golden generation of preketek if the problem of editing is the picture to AI</td>\n",
       "    </tr>\n",
       "  </tbody>\n",
       "</table>\n",
       "</div>"
      ],
      "text/plain": [
       "                                                                                                                                                                                                                                                                            cleaning  \\\n",
       "0                                                                                                                                                                                              Pemerintah gaspol dorong inovasi kendaraan listrik, masa depan Indonesia makin cerah!   \n",
       "1                                                                                                                                            Pemerintah dengan pemeriksaan kesehatan gratis menunjukkan kepedulian terhadap kualitas hidup rakyat Indonesia PemerintahSehatkanBangsa   \n",
       "2  Opini cuma omdo. 78,5 persen penduduk Timor Timur ingin merdeka atau memisahkan diri, dan menolak tawaran otonomi khusus dari Indonesia ngomong industri yg suport manufaktur pesawat? Pendaannya saja di hentikan oleh pemerintah karena krismon Terus semua salahin Bj Habibie?   \n",
       "3                                                                                                                                                        Program ini adalah bagian dari upaya besar pemerintah dalam memperbaiki sistem kesehatan Indonesia PemerintahSehatkanBangsa   \n",
       "4                                                                                                                                                                 Pemerintah indonesia ni knp demen bgt pake ai sih, generasi emas preketek kalau masalah edit² gambar larinya ke ai   \n",
       "\n",
       "                                                                                                                                                                                                                                                                                              english_cleaning  \n",
       "0                                                                                                                                                                                                                The Gaspol government encourages electric vehicle innovation, Indonesia's future is brighter!  \n",
       "1                                                                                                                                                                                         The government with a free health check shows a concern for the quality of life of the Indonesian people, the nation  \n",
       "2  Omdo's opinion. 78.5 percent of the population of East Timor wants to be independent or separate, and reject the offer of special autonomy from Indonesia talking about the industry that supports aircraft manufacturing? The funding was stopped by the government because Krismon continued all BJ Ha...  \n",
       "3                                                                                                                                                                                                            This program is part of the government's great efforts in improving the Indonesian health system.  \n",
       "4                                                                                                                                                                     The Indonesian government is why do you like to use AI, the golden generation of preketek if the problem of editing is the picture to AI  "
      ]
     },
     "execution_count": 20,
     "metadata": {},
     "output_type": "execute_result"
    }
   ],
   "source": [
    "#Translate ke English\n",
    "translate = pd.DataFrame(df['cleaning']) #disini labelin menggunakan hasil akhir dari pembersihan\n",
    "translate['english_cleaning'] = translate['cleaning'].apply(lambda x: translator.translate(x, src='id', dest='en').text)\n",
    "translate.head()"
   ]
  },
  {
   "cell_type": "markdown",
   "id": "8be0176a",
   "metadata": {},
   "source": [
    "Labeling sentimen menggunakan textblob. Disini labeling berdasarkan nilai polaritas pada data."
   ]
  },
  {
   "cell_type": "code",
   "execution_count": 21,
   "id": "98035daa",
   "metadata": {},
   "outputs": [],
   "source": [
    "# Membuat list untuk menyimpan hasil analisis\n",
    "results = []\n",
    "\n",
    "# Analisis setiap teks yang sudah diubah ke dalam bahasa Inggris\n",
    "for index, row in translate.iterrows():\n",
    "    teks = row[\"english_cleaning\"]  # Kolom yang sudah ditranslate\n",
    "    blob = TextBlob(teks)\n",
    "    polarity = blob.sentiment.polarity\n",
    "\n",
    "    if polarity > 0.0:\n",
    "        sentiment = \"Positif\"\n",
    "    elif polarity < -0.0:\n",
    "        sentiment = \"Negatif\"\n",
    "    else:\n",
    "        sentiment = \"Netral\"\n",
    "\n",
    "    results.append({\n",
    "        \"cleaning\": row[\"cleaning\"],  # Kolom tweet sebelum ditranslate\n",
    "        \"english_cleaning\": teks,   # Kolom tweet yang sudah ditranslate\n",
    "        \"polarity\": polarity,\n",
    "        \"sentimen\": sentiment\n",
    "    })"
   ]
  },
  {
   "cell_type": "code",
   "execution_count": 24,
   "id": "6baced4b",
   "metadata": {},
   "outputs": [
    {
     "data": {
      "text/html": [
       "<div>\n",
       "<style scoped>\n",
       "    .dataframe tbody tr th:only-of-type {\n",
       "        vertical-align: middle;\n",
       "    }\n",
       "\n",
       "    .dataframe tbody tr th {\n",
       "        vertical-align: top;\n",
       "    }\n",
       "\n",
       "    .dataframe thead th {\n",
       "        text-align: right;\n",
       "    }\n",
       "</style>\n",
       "<table border=\"1\" class=\"dataframe\">\n",
       "  <thead>\n",
       "    <tr style=\"text-align: right;\">\n",
       "      <th></th>\n",
       "      <th>cleaning</th>\n",
       "      <th>english_cleaning</th>\n",
       "      <th>polarity</th>\n",
       "      <th>sentimen</th>\n",
       "    </tr>\n",
       "  </thead>\n",
       "  <tbody>\n",
       "    <tr>\n",
       "      <th>0</th>\n",
       "      <td>Pemerintah gaspol dorong inovasi kendaraan listrik, masa depan Indonesia makin cerah!</td>\n",
       "      <td>The Gaspol government encourages electric vehicle innovation, Indonesia's future is brighter!</td>\n",
       "      <td>0.000000</td>\n",
       "      <td>Netral</td>\n",
       "    </tr>\n",
       "    <tr>\n",
       "      <th>1</th>\n",
       "      <td>Pemerintah dengan pemeriksaan kesehatan gratis menunjukkan kepedulian terhadap kualitas hidup rakyat Indonesia PemerintahSehatkanBangsa</td>\n",
       "      <td>The government with a free health check shows a concern for the quality of life of the Indonesian people, the nation</td>\n",
       "      <td>0.400000</td>\n",
       "      <td>Positif</td>\n",
       "    </tr>\n",
       "    <tr>\n",
       "      <th>2</th>\n",
       "      <td>Opini cuma omdo. 78,5 persen penduduk Timor Timur ingin merdeka atau memisahkan diri, dan menolak tawaran otonomi khusus dari Indonesia ngomong industri yg suport manufaktur pesawat? Pendaannya saja di hentikan oleh pemerintah karena krismon Terus semua salahin Bj Habibie?</td>\n",
       "      <td>Omdo's opinion. 78.5 percent of the population of East Timor wants to be independent or separate, and reject the offer of special autonomy from Indonesia talking about the industry that supports aircraft manufacturing? The funding was stopped by the government because Krismon continued all BJ Ha...</td>\n",
       "      <td>0.185714</td>\n",
       "      <td>Positif</td>\n",
       "    </tr>\n",
       "    <tr>\n",
       "      <th>3</th>\n",
       "      <td>Program ini adalah bagian dari upaya besar pemerintah dalam memperbaiki sistem kesehatan Indonesia PemerintahSehatkanBangsa</td>\n",
       "      <td>This program is part of the government's great efforts in improving the Indonesian health system.</td>\n",
       "      <td>0.800000</td>\n",
       "      <td>Positif</td>\n",
       "    </tr>\n",
       "    <tr>\n",
       "      <th>4</th>\n",
       "      <td>Pemerintah indonesia ni knp demen bgt pake ai sih, generasi emas preketek kalau masalah edit² gambar larinya ke ai</td>\n",
       "      <td>The Indonesian government is why do you like to use AI, the golden generation of preketek if the problem of editing is the picture to AI</td>\n",
       "      <td>0.300000</td>\n",
       "      <td>Positif</td>\n",
       "    </tr>\n",
       "  </tbody>\n",
       "</table>\n",
       "</div>"
      ],
      "text/plain": [
       "                                                                                                                                                                                                                                                                            cleaning  \\\n",
       "0                                                                                                                                                                                              Pemerintah gaspol dorong inovasi kendaraan listrik, masa depan Indonesia makin cerah!   \n",
       "1                                                                                                                                            Pemerintah dengan pemeriksaan kesehatan gratis menunjukkan kepedulian terhadap kualitas hidup rakyat Indonesia PemerintahSehatkanBangsa   \n",
       "2  Opini cuma omdo. 78,5 persen penduduk Timor Timur ingin merdeka atau memisahkan diri, dan menolak tawaran otonomi khusus dari Indonesia ngomong industri yg suport manufaktur pesawat? Pendaannya saja di hentikan oleh pemerintah karena krismon Terus semua salahin Bj Habibie?   \n",
       "3                                                                                                                                                        Program ini adalah bagian dari upaya besar pemerintah dalam memperbaiki sistem kesehatan Indonesia PemerintahSehatkanBangsa   \n",
       "4                                                                                                                                                                 Pemerintah indonesia ni knp demen bgt pake ai sih, generasi emas preketek kalau masalah edit² gambar larinya ke ai   \n",
       "\n",
       "                                                                                                                                                                                                                                                                                              english_cleaning  \\\n",
       "0                                                                                                                                                                                                                The Gaspol government encourages electric vehicle innovation, Indonesia's future is brighter!   \n",
       "1                                                                                                                                                                                         The government with a free health check shows a concern for the quality of life of the Indonesian people, the nation   \n",
       "2  Omdo's opinion. 78.5 percent of the population of East Timor wants to be independent or separate, and reject the offer of special autonomy from Indonesia talking about the industry that supports aircraft manufacturing? The funding was stopped by the government because Krismon continued all BJ Ha...   \n",
       "3                                                                                                                                                                                                            This program is part of the government's great efforts in improving the Indonesian health system.   \n",
       "4                                                                                                                                                                     The Indonesian government is why do you like to use AI, the golden generation of preketek if the problem of editing is the picture to AI   \n",
       "\n",
       "   polarity sentimen  \n",
       "0  0.000000   Netral  \n",
       "1  0.400000  Positif  \n",
       "2  0.185714  Positif  \n",
       "3  0.800000  Positif  \n",
       "4  0.300000  Positif  "
      ]
     },
     "execution_count": 24,
     "metadata": {},
     "output_type": "execute_result"
    }
   ],
   "source": [
    "# Membuat DataFrame dari hasil analisis\n",
    "translate = pd.DataFrame(results)\n",
    "translate.head()"
   ]
  },
  {
   "cell_type": "markdown",
   "id": "77641fe7",
   "metadata": {},
   "source": [
    "Menghapus kolom english_cleaning."
   ]
  },
  {
   "cell_type": "code",
   "execution_count": 25,
   "id": "dd663297",
   "metadata": {},
   "outputs": [
    {
     "data": {
      "text/html": [
       "<div>\n",
       "<style scoped>\n",
       "    .dataframe tbody tr th:only-of-type {\n",
       "        vertical-align: middle;\n",
       "    }\n",
       "\n",
       "    .dataframe tbody tr th {\n",
       "        vertical-align: top;\n",
       "    }\n",
       "\n",
       "    .dataframe thead th {\n",
       "        text-align: right;\n",
       "    }\n",
       "</style>\n",
       "<table border=\"1\" class=\"dataframe\">\n",
       "  <thead>\n",
       "    <tr style=\"text-align: right;\">\n",
       "      <th></th>\n",
       "      <th>cleaning</th>\n",
       "      <th>polarity</th>\n",
       "      <th>sentimen</th>\n",
       "    </tr>\n",
       "  </thead>\n",
       "  <tbody>\n",
       "    <tr>\n",
       "      <th>0</th>\n",
       "      <td>Pemerintah gaspol dorong inovasi kendaraan listrik, masa depan Indonesia makin cerah!</td>\n",
       "      <td>0.000000</td>\n",
       "      <td>Netral</td>\n",
       "    </tr>\n",
       "    <tr>\n",
       "      <th>1</th>\n",
       "      <td>Pemerintah dengan pemeriksaan kesehatan gratis menunjukkan kepedulian terhadap kualitas hidup rakyat Indonesia PemerintahSehatkanBangsa</td>\n",
       "      <td>0.400000</td>\n",
       "      <td>Positif</td>\n",
       "    </tr>\n",
       "    <tr>\n",
       "      <th>2</th>\n",
       "      <td>Opini cuma omdo. 78,5 persen penduduk Timor Timur ingin merdeka atau memisahkan diri, dan menolak tawaran otonomi khusus dari Indonesia ngomong industri yg suport manufaktur pesawat? Pendaannya saja di hentikan oleh pemerintah karena krismon Terus semua salahin Bj Habibie?</td>\n",
       "      <td>0.185714</td>\n",
       "      <td>Positif</td>\n",
       "    </tr>\n",
       "    <tr>\n",
       "      <th>3</th>\n",
       "      <td>Program ini adalah bagian dari upaya besar pemerintah dalam memperbaiki sistem kesehatan Indonesia PemerintahSehatkanBangsa</td>\n",
       "      <td>0.800000</td>\n",
       "      <td>Positif</td>\n",
       "    </tr>\n",
       "    <tr>\n",
       "      <th>4</th>\n",
       "      <td>Pemerintah indonesia ni knp demen bgt pake ai sih, generasi emas preketek kalau masalah edit² gambar larinya ke ai</td>\n",
       "      <td>0.300000</td>\n",
       "      <td>Positif</td>\n",
       "    </tr>\n",
       "  </tbody>\n",
       "</table>\n",
       "</div>"
      ],
      "text/plain": [
       "                                                                                                                                                                                                                                                                            cleaning  \\\n",
       "0                                                                                                                                                                                              Pemerintah gaspol dorong inovasi kendaraan listrik, masa depan Indonesia makin cerah!   \n",
       "1                                                                                                                                            Pemerintah dengan pemeriksaan kesehatan gratis menunjukkan kepedulian terhadap kualitas hidup rakyat Indonesia PemerintahSehatkanBangsa   \n",
       "2  Opini cuma omdo. 78,5 persen penduduk Timor Timur ingin merdeka atau memisahkan diri, dan menolak tawaran otonomi khusus dari Indonesia ngomong industri yg suport manufaktur pesawat? Pendaannya saja di hentikan oleh pemerintah karena krismon Terus semua salahin Bj Habibie?   \n",
       "3                                                                                                                                                        Program ini adalah bagian dari upaya besar pemerintah dalam memperbaiki sistem kesehatan Indonesia PemerintahSehatkanBangsa   \n",
       "4                                                                                                                                                                 Pemerintah indonesia ni knp demen bgt pake ai sih, generasi emas preketek kalau masalah edit² gambar larinya ke ai   \n",
       "\n",
       "   polarity sentimen  \n",
       "0  0.000000   Netral  \n",
       "1  0.400000  Positif  \n",
       "2  0.185714  Positif  \n",
       "3  0.800000  Positif  \n",
       "4  0.300000  Positif  "
      ]
     },
     "execution_count": 25,
     "metadata": {},
     "output_type": "execute_result"
    }
   ],
   "source": [
    "#menghapus kolom translate\n",
    "del(translate[\"english_cleaning\"])\n",
    "translate.head()"
   ]
  },
  {
   "cell_type": "markdown",
   "id": "1cc27a8d",
   "metadata": {},
   "source": [
    "Simpan hasil analisis sentimen pada csv."
   ]
  },
  {
   "cell_type": "code",
   "execution_count": 26,
   "id": "cb9629da",
   "metadata": {},
   "outputs": [],
   "source": [
    "#simpan kedalam csv\n",
    "translate.to_csv('hasil-labelin-sentimen-pemerintah-indo.csv', sep=',', index=False)"
   ]
  },
  {
   "cell_type": "code",
   "execution_count": null,
   "id": "de2e0de2",
   "metadata": {},
   "outputs": [],
   "source": []
  },
  {
   "cell_type": "markdown",
   "id": "f86cb542",
   "metadata": {},
   "source": [
    "# Visualisasi"
   ]
  },
  {
   "cell_type": "markdown",
   "id": "1fc59dd9",
   "metadata": {},
   "source": [
    "Membuat visualisasi hasil dari analisis sentimen."
   ]
  },
  {
   "cell_type": "code",
   "execution_count": 28,
   "id": "125385e2",
   "metadata": {},
   "outputs": [],
   "source": [
    "# Import library yang dibutuhkan\n",
    "import matplotlib.pyplot as plt\n",
    "import seaborn as sns"
   ]
  },
  {
   "cell_type": "markdown",
   "id": "441ce173",
   "metadata": {},
   "source": [
    "Membuat distribusi hasil sentimen."
   ]
  },
  {
   "cell_type": "code",
   "execution_count": 30,
   "id": "4917f650",
   "metadata": {},
   "outputs": [
    {
     "data": {
      "text/html": [
       "<div>\n",
       "<style scoped>\n",
       "    .dataframe tbody tr th:only-of-type {\n",
       "        vertical-align: middle;\n",
       "    }\n",
       "\n",
       "    .dataframe tbody tr th {\n",
       "        vertical-align: top;\n",
       "    }\n",
       "\n",
       "    .dataframe thead th {\n",
       "        text-align: right;\n",
       "    }\n",
       "</style>\n",
       "<table border=\"1\" class=\"dataframe\">\n",
       "  <thead>\n",
       "    <tr style=\"text-align: right;\">\n",
       "      <th></th>\n",
       "      <th>Sentimen</th>\n",
       "      <th>Jumlah</th>\n",
       "      <th>Presentase</th>\n",
       "    </tr>\n",
       "  </thead>\n",
       "  <tbody>\n",
       "    <tr>\n",
       "      <th>0</th>\n",
       "      <td>Positif</td>\n",
       "      <td>66</td>\n",
       "      <td>65.3%</td>\n",
       "    </tr>\n",
       "    <tr>\n",
       "      <th>1</th>\n",
       "      <td>Negatif</td>\n",
       "      <td>19</td>\n",
       "      <td>18.8%</td>\n",
       "    </tr>\n",
       "    <tr>\n",
       "      <th>2</th>\n",
       "      <td>Netral</td>\n",
       "      <td>16</td>\n",
       "      <td>15.8%</td>\n",
       "    </tr>\n",
       "  </tbody>\n",
       "</table>\n",
       "</div>"
      ],
      "text/plain": [
       "  Sentimen  Jumlah Presentase\n",
       "0  Positif      66      65.3%\n",
       "1  Negatif      19      18.8%\n",
       "2   Netral      16      15.8%"
      ]
     },
     "execution_count": 30,
     "metadata": {},
     "output_type": "execute_result"
    }
   ],
   "source": [
    "sentimen_counts = translate['sentimen'].value_counts()  #Menghitung jumlah data persentimennya\n",
    "total_data = len(translate)\n",
    "sentimen_percentages = (sentimen_counts / total_data) * 100    #Menghitung presentase\n",
    "sentimen_percentages = sentimen_percentages.round(1).astype(str) + '%'    #Membuat 1 angka dibelakang koma\n",
    "result_df = pd.DataFrame({'Sentimen': sentimen_counts.index, 'Jumlah': sentimen_counts.values, 'Presentase': sentimen_percentages.values})\n",
    "result_df"
   ]
  },
  {
   "cell_type": "code",
   "execution_count": 33,
   "id": "9ce789c9",
   "metadata": {},
   "outputs": [
    {
     "data": {
      "image/png": "[encoded data removed]",
      "text/plain": [
       "<Figure size 576x576 with 1 Axes>"
      ]
     },
     "metadata": {},
     "output_type": "display_data"
    }
   ],
   "source": [
    "plt.figure(figsize=(8, 8))\n",
    "plt.pie(sentimen_counts, labels=sentimen_counts.index, autopct=lambda p: '{:.1f}%\\n({:.0f})'.format(p, p * sum(sentimen_counts) / 100),\n",
    "        startangle=140)\n",
    "\n",
    "plt.legend(sentimen_counts.index, title='Sentimen', loc='center', bbox_to_anchor=(1, 0.5))\n",
    "plt.title('Diagram Pie')\n",
    "plt.show()"
   ]
  },
  {
   "cell_type": "code",
   "execution_count": 34,
   "id": "15f0956a",
   "metadata": {},
   "outputs": [
    {
     "data": {
      "image/png": "[encoded data removed]",
      "text/plain": [
       "<Figure size 576x432 with 1 Axes>"
      ]
     },
     "metadata": {
      "needs_background": "light"
     },
     "output_type": "display_data"
    }
   ],
   "source": [
    "#sentimen count\n",
    "sentimen_counts = translate['sentimen'].value_counts()\n",
    "plt.figure(figsize=(8, 6))\n",
    "colors = ['blue', 'green', 'red']  #pemilihan warna (opsional)\n",
    "bars = plt.bar(sentimen_counts.index, sentimen_counts.values, color=colors)\n",
    "for bar, count in zip(bars, sentimen_counts.values):\n",
    "    plt.text(bar.get_x() + bar.get_width() / 2, count + 0.5, str(count), ha='center', va='bottom')\n",
    "    \n",
    "plt.xlabel('Sentimen')\n",
    "plt.ylabel('Jumlah')\n",
    "plt.title('Diagram Batang')\n",
    "plt.show()"
   ]
  },
  {
   "cell_type": "code",
   "execution_count": null,
   "id": "c03a0bcd",
   "metadata": {},
   "outputs": [],
   "source": []
  },
  {
   "cell_type": "markdown",
   "id": "b4fbb9ce",
   "metadata": {},
   "source": [
    "# Kesimpulan"
   ]
  },
  {
   "cell_type": "markdown",
   "id": "21cbf317",
   "metadata": {},
   "source": [
    "Berdasarkan analisis sentimen terhadap tweet yang berhasil di tarik, diperoleh hasil sebagai berikut:\n",
    "\n",
    "1. Hasil mendapatkan sesuai target data, yakni 100 data tweet.\n",
    "2. Sebagian besar tweet memiliki sentimen positif dengan jumlah 66 data.\n",
    "3. Distribusi sentimen menunjukan bahwa orang-orang di Twitter cenderung lebih banyak memberikan opini positif pada topik 'Pemerintah Indonesia'.\n",
    "\n",
    "**Pengembangan Selanjutnya**\n",
    "- Menggunakan model **Machine Learning** untuk meningkatkan akurasi analisis sentimen.\n",
    "- Scraping data dalam jumlah lebih besar untuk mendapatkan insight yang lebih akurat.\n",
    "- Menggunakan **wordcloud** untuk melihat kata-kata yang paling sering muncul dalam setiap kategori sentimen."
   ]
  },
  {
   "cell_type": "code",
   "execution_count": null,
   "id": "00873b63",
   "metadata": {},
   "outputs": [],
   "source": []
  }
 ],
 "metadata": {
  "kernelspec": {
   "display_name": "Python 3 (ipykernel)",
   "language": "python",
   "name": "python3"
  },
  "language_info": {
   "codemirror_mode": {
    "name": "ipython",
    "version": 3
   },
   "file_extension": ".py",
   "mimetype": "text/x-python",
   "name": "python",
   "nbconvert_exporter": "python",
   "pygments_lexer": "ipython3",
   "version": "3.10.2"
  }
 },
 "nbformat": 4,
 "nbformat_minor": 5
}
